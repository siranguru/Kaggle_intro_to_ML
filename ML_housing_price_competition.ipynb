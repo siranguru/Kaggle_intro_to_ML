{
 "cells": [
  {
   "cell_type": "markdown",
   "id": "d061e9dd",
   "metadata": {
    "papermill": {
     "duration": 0.006631,
     "end_time": "2024-09-29T12:01:00.889921",
     "exception": false,
     "start_time": "2024-09-29T12:01:00.883290",
     "status": "completed"
    },
    "tags": []
   },
   "source": [
    "**This notebook is an exercise in the [Introduction to Machine Learning](https://www.kaggle.com/learn/intro-to-machine-learning) course.  You can reference the tutorial at [this link](https://www.kaggle.com/alexisbcook/machine-learning-competitions).**\n",
    "\n",
    "---\n"
   ]
  },
  {
   "cell_type": "markdown",
   "id": "939a7e02",
   "metadata": {
    "papermill": {
     "duration": 0.005916,
     "end_time": "2024-09-29T12:01:00.901965",
     "exception": false,
     "start_time": "2024-09-29T12:01:00.896049",
     "status": "completed"
    },
    "tags": []
   },
   "source": [
    "# Introduction\n",
    "\n",
    "In this exercise, you will create and submit predictions for a Kaggle competition. You can then improve your model (e.g. by adding features) to apply what you've learned and move up the leaderboard.\n",
    "\n",
    "Begin by running the code cell below to set up code checking and the filepaths for the dataset."
   ]
  },
  {
   "cell_type": "code",
   "execution_count": 1,
   "id": "47f2ae44",
   "metadata": {
    "execution": {
     "iopub.execute_input": "2024-09-29T12:01:00.915809Z",
     "iopub.status.busy": "2024-09-29T12:01:00.915335Z",
     "iopub.status.idle": "2024-09-29T12:01:01.969742Z",
     "shell.execute_reply": "2024-09-29T12:01:01.968373Z"
    },
    "papermill": {
     "duration": 1.065015,
     "end_time": "2024-09-29T12:01:01.973077",
     "exception": false,
     "start_time": "2024-09-29T12:01:00.908062",
     "status": "completed"
    },
    "tags": []
   },
   "outputs": [],
   "source": [
    "# Set up code checking\n",
    "from learntools.core import binder\n",
    "binder.bind(globals())\n",
    "from learntools.machine_learning.ex7 import *\n",
    "\n",
    "# Set up filepaths\n",
    "import os\n",
    "if not os.path.exists(\"../input/train.csv\"):\n",
    "    os.symlink(\"../input/home-data-for-ml-course/train.csv\", \"../input/train.csv\")  \n",
    "    os.symlink(\"../input/home-data-for-ml-course/test.csv\", \"../input/test.csv\") "
   ]
  },
  {
   "cell_type": "markdown",
   "id": "8484881e",
   "metadata": {
    "papermill": {
     "duration": 0.006701,
     "end_time": "2024-09-29T12:01:01.985835",
     "exception": false,
     "start_time": "2024-09-29T12:01:01.979134",
     "status": "completed"
    },
    "tags": []
   },
   "source": [
    "Here's some of the code you've written so far. Start by running it again."
   ]
  },
  {
   "cell_type": "code",
   "execution_count": 2,
   "id": "9b32cbed",
   "metadata": {
    "execution": {
     "iopub.execute_input": "2024-09-29T12:01:02.000228Z",
     "iopub.status.busy": "2024-09-29T12:01:01.999637Z",
     "iopub.status.idle": "2024-09-29T12:01:04.990077Z",
     "shell.execute_reply": "2024-09-29T12:01:04.988288Z"
    },
    "papermill": {
     "duration": 3.001604,
     "end_time": "2024-09-29T12:01:04.993595",
     "exception": false,
     "start_time": "2024-09-29T12:01:01.991991",
     "status": "completed"
    },
    "tags": []
   },
   "outputs": [
    {
     "name": "stdout",
     "output_type": "stream",
     "text": [
      "Validation MAE for Random Forest Model: 17,906\n"
     ]
    }
   ],
   "source": [
    "# Import helpful libraries\n",
    "import pandas as pd\n",
    "from sklearn.ensemble import RandomForestRegressor\n",
    "from sklearn.metrics import mean_absolute_error\n",
    "from sklearn.model_selection import train_test_split\n",
    "\n",
    "# Load the data, and separate the target\n",
    "iowa_file_path = '../input/train.csv'\n",
    "home_data = pd.read_csv(iowa_file_path)\n",
    "\n",
    "# Selecting or Cleaning by removing NA data rows\n",
    "features = ['MSSubClass', 'LotArea', 'OverallQual', 'OverallCond', 'YearBuilt', 'YearRemodAdd', 'BsmtFinSF1', 'BsmtFinSF2', 'BsmtUnfSF', 'TotalBsmtSF', '1stFlrSF', '2ndFlrSF', 'LowQualFinSF', 'GrLivArea', 'BsmtFullBath', 'BsmtHalfBath', 'FullBath', 'HalfBath', 'BedroomAbvGr', 'KitchenAbvGr', 'TotRmsAbvGrd', 'Fireplaces', 'GarageCars', 'GarageArea', 'WoodDeckSF', 'OpenPorchSF', 'EnclosedPorch', '3SsnPorch', 'ScreenPorch', 'PoolArea', 'MiscVal', 'MoSold', 'YrSold', 'SalePrice']\n",
    "home_data = home_data[features]\n",
    "#home_data = home_data.dropna(axis = 0)\n",
    "\n",
    "y = home_data.SalePrice\n",
    "\n",
    "# Create X (After completing the exercise, you can return to modify this line!)\n",
    "features = ['MSSubClass', 'LotArea', 'OverallQual' , 'OverallCond' , 'YearBuilt', 'YearRemodAdd' , '1stFlrSF', '2ndFlrSF' , 'LowQualFinSF' , 'GrLivArea', 'FullBath', 'HalfBath', 'BedroomAbvGr' , 'KitchenAbvGr' , 'TotRmsAbvGrd' , 'Fireplaces' , 'WoodDeckSF' , 'OpenPorchSF', 'EnclosedPorch' , '3SsnPorch' , 'ScreenPorch' , 'PoolArea' , 'MiscVal' , 'MoSold' , 'YrSold']\n",
    "#features = ['MSSubClass', 'LotArea', 'OverallQual', 'OverallCond', 'YearBuilt', 'YearRemodAdd', 'BsmtFinSF1', 'BsmtFinSF2', 'BsmtUnfSF', 'TotalBsmtSF', '1stFlrSF', '2ndFlrSF', 'LowQualFinSF', 'GrLivArea', 'BsmtFullBath', 'BsmtHalfBath', 'FullBath', 'HalfBath', 'BedroomAbvGr', 'KitchenAbvGr', 'TotRmsAbvGrd', 'Fireplaces', 'GarageCars', 'GarageArea', 'WoodDeckSF', 'OpenPorchSF', 'EnclosedPorch', '3SsnPorch', 'ScreenPorch', 'PoolArea', 'MiscVal', 'MoSold', 'YrSold']\n",
    "\n",
    "#features = ['BsmtUnfSF', 'EnclosedPorch', 'LotArea', 'PoolArea', 'YrSold', 'OverallQual', 'BsmtFinSF1', 'MSSubClass', 'MiscVal', 'YearRemodAdd', 'WoodDeckSF', 'HalfBath', 'ScreenPorch', 'TotalBsmtSF', 'GarageCars', 'Fireplaces', 'FullBath', 'OpenPorchSF', '2ndFlrSF', 'LowQualFinSF', 'BsmtFinSF2', '3SsnPorch', 'GarageArea', 'BsmtFullBath', 'BsmtHalfBath', 'OverallCond', 'BedroomAbvGr', '1stFlrSF', 'GrLivArea', 'TotRmsAbvGrd', 'YearBuilt', 'KitchenAbvGr']\n",
    "\n",
    "# Select columns corresponding to features, and preview the data\n",
    "X = home_data[features]\n",
    "X.head()\n",
    "\n",
    "# Split into validation and training data\n",
    "train_X, val_X, train_y, val_y = train_test_split(X, y, random_state=1)\n",
    "\n",
    "# Define a random forest model\n",
    "rf_model = RandomForestRegressor(random_state=1)\n",
    "rf_model.fit(train_X, train_y)\n",
    "rf_val_predictions = rf_model.predict(val_X)\n",
    "rf_val_mae = mean_absolute_error(rf_val_predictions, val_y)\n",
    "\n",
    "print(\"Validation MAE for Random Forest Model: {:,.0f}\".format(rf_val_mae))"
   ]
  },
  {
   "cell_type": "code",
   "execution_count": 3,
   "id": "e22b7e7f",
   "metadata": {
    "execution": {
     "iopub.execute_input": "2024-09-29T12:01:05.008389Z",
     "iopub.status.busy": "2024-09-29T12:01:05.007924Z",
     "iopub.status.idle": "2024-09-29T12:01:08.959572Z",
     "shell.execute_reply": "2024-09-29T12:01:08.957945Z"
    },
    "papermill": {
     "duration": 3.962843,
     "end_time": "2024-09-29T12:01:08.962807",
     "exception": false,
     "start_time": "2024-09-29T12:01:04.999964",
     "status": "completed"
    },
    "tags": []
   },
   "outputs": [
    {
     "name": "stdout",
     "output_type": "stream",
     "text": [
      "[17905.8978630137, 17905.8978630137, 17905.8978630137, 17905.8978630137]\n",
      "10\n"
     ]
    }
   ],
   "source": [
    "#print(home_data.columns)\n",
    "#print(home_data.describe().T)\n",
    "\n",
    "#home_data.corr()\n",
    "\n",
    "def get_mae_rfr(max_leaf_nodes, train_X, val_X, train_y, val_y):\n",
    "    rf_model = RandomForestRegressor(random_state=1)\n",
    "    rf_model.fit(train_X, train_y)\n",
    "    rf_val_predictions = rf_model.predict(val_X)\n",
    "    return mean_absolute_error(rf_val_predictions, val_y)\n",
    "\n",
    "import numpy as np\n",
    "list_leaf_nodes = [10, 50, 100, 500]\n",
    "mae_list = []\n",
    "for max_leaf_nodes in list_leaf_nodes:\n",
    "    mae_list.append(get_mae_rfr(max_leaf_nodes, train_X, val_X, train_y, val_y))\n",
    "\n",
    "best_num_leaf_nodes = list_leaf_nodes[mae_list.index(min(mae_list))]\n",
    "print(mae_list)\n",
    "print(best_num_leaf_nodes)\n",
    "\n"
   ]
  },
  {
   "cell_type": "code",
   "execution_count": 4,
   "id": "b711a39a",
   "metadata": {
    "execution": {
     "iopub.execute_input": "2024-09-29T12:01:08.977085Z",
     "iopub.status.busy": "2024-09-29T12:01:08.976668Z",
     "iopub.status.idle": "2024-09-29T12:01:08.987910Z",
     "shell.execute_reply": "2024-09-29T12:01:08.986614Z"
    },
    "papermill": {
     "duration": 0.021346,
     "end_time": "2024-09-29T12:01:08.990549",
     "exception": false,
     "start_time": "2024-09-29T12:01:08.969203",
     "status": "completed"
    },
    "tags": []
   },
   "outputs": [
    {
     "data": {
      "text/plain": [
       "\"\\nall_features = ['MSSubClass', 'LotArea', 'OverallQual', 'OverallCond', 'YearBuilt', 'YearRemodAdd', 'BsmtFinSF1', 'BsmtFinSF2', 'BsmtUnfSF', 'TotalBsmtSF', '1stFlrSF', '2ndFlrSF', 'LowQualFinSF', 'GrLivArea', 'BsmtFullBath', 'BsmtHalfBath', 'FullBath', 'HalfBath', 'BedroomAbvGr', 'KitchenAbvGr', 'TotRmsAbvGrd', 'Fireplaces', 'GarageCars', 'GarageArea', 'WoodDeckSF', 'OpenPorchSF', 'EnclosedPorch', '3SsnPorch', 'ScreenPorch', 'PoolArea', 'MiscVal', 'MoSold', 'YrSold', 'SalePrice']\\nall_features_X = all_features[:-1]\\nn1 = len(all_features_X)\\n\\nimport random\\ndef random_subset(all_features_X):\\n    random_num_of_features = random.randint(10,len(all_features_X))\\n    return random.sample(all_features_X, random_num_of_features)\\n\\nmae_list = [min(mae_list)]\\nbest_mae = min(mae_list)\\nbest_feature_list = features\\nbest_leaf_node_in_feature_list = best_num_leaf_nodes\\nfor i in range(100):\\n    features = random_subset(all_features_X)\\n    X = home_data[features]\\n    train_X, val_X, train_y, val_y = train_test_split(X,y,random_state = 1)\\n    for max_leaf_nodes in list_leaf_nodes:\\n        new_mae = get_mae_rfr(max_leaf_nodes, train_X, val_X, train_y, val_y)\\n        if new_mae<best_mae:\\n            best_feature_list = features\\n            best_leaf_node_in_feature_list = max_leaf_nodes\\n            best_mae = new_mae\\n\\n\\n            \\nprint(best_mae)\\nprint(best_leaf_node_in_feature_list)\\nprint(best_feature_list)\\n\""
      ]
     },
     "execution_count": 4,
     "metadata": {},
     "output_type": "execute_result"
    }
   ],
   "source": [
    "# Cross verifying accross different features selected and number of max nodes\n",
    "\"\"\"\n",
    "all_features = ['MSSubClass', 'LotArea', 'OverallQual', 'OverallCond', 'YearBuilt', 'YearRemodAdd', 'BsmtFinSF1', 'BsmtFinSF2', 'BsmtUnfSF', 'TotalBsmtSF', '1stFlrSF', '2ndFlrSF', 'LowQualFinSF', 'GrLivArea', 'BsmtFullBath', 'BsmtHalfBath', 'FullBath', 'HalfBath', 'BedroomAbvGr', 'KitchenAbvGr', 'TotRmsAbvGrd', 'Fireplaces', 'GarageCars', 'GarageArea', 'WoodDeckSF', 'OpenPorchSF', 'EnclosedPorch', '3SsnPorch', 'ScreenPorch', 'PoolArea', 'MiscVal', 'MoSold', 'YrSold', 'SalePrice']\n",
    "all_features_X = all_features[:-1]\n",
    "n1 = len(all_features_X)\n",
    "\n",
    "import random\n",
    "def random_subset(all_features_X):\n",
    "    random_num_of_features = random.randint(10,len(all_features_X))\n",
    "    return random.sample(all_features_X, random_num_of_features)\n",
    "\n",
    "mae_list = [min(mae_list)]\n",
    "best_mae = min(mae_list)\n",
    "best_feature_list = features\n",
    "best_leaf_node_in_feature_list = best_num_leaf_nodes\n",
    "for i in range(100):\n",
    "    features = random_subset(all_features_X)\n",
    "    X = home_data[features]\n",
    "    train_X, val_X, train_y, val_y = train_test_split(X,y,random_state = 1)\n",
    "    for max_leaf_nodes in list_leaf_nodes:\n",
    "        new_mae = get_mae_rfr(max_leaf_nodes, train_X, val_X, train_y, val_y)\n",
    "        if new_mae<best_mae:\n",
    "            best_feature_list = features\n",
    "            best_leaf_node_in_feature_list = max_leaf_nodes\n",
    "            best_mae = new_mae\n",
    "\n",
    "\n",
    "            \n",
    "print(best_mae)\n",
    "print(best_leaf_node_in_feature_list)\n",
    "print(best_feature_list)\n",
    "\"\"\""
   ]
  },
  {
   "cell_type": "markdown",
   "id": "b7aea091",
   "metadata": {
    "papermill": {
     "duration": 0.005886,
     "end_time": "2024-09-29T12:01:09.002834",
     "exception": false,
     "start_time": "2024-09-29T12:01:08.996948",
     "status": "completed"
    },
    "tags": []
   },
   "source": [
    "# Train a model for the competition\n",
    "\n",
    "The code cell above trains a Random Forest model on **`train_X`** and **`train_y`**.  \n",
    "\n",
    "Use the code cell below to build a Random Forest model and train it on all of **`X`** and **`y`**."
   ]
  },
  {
   "cell_type": "code",
   "execution_count": 5,
   "id": "de5378c5",
   "metadata": {
    "execution": {
     "iopub.execute_input": "2024-09-29T12:01:09.017984Z",
     "iopub.status.busy": "2024-09-29T12:01:09.017035Z",
     "iopub.status.idle": "2024-09-29T12:01:10.263993Z",
     "shell.execute_reply": "2024-09-29T12:01:10.262628Z"
    },
    "papermill": {
     "duration": 1.257432,
     "end_time": "2024-09-29T12:01:10.266697",
     "exception": false,
     "start_time": "2024-09-29T12:01:09.009265",
     "status": "completed"
    },
    "tags": []
   },
   "outputs": [
    {
     "data": {
      "text/html": [
       "<style>#sk-container-id-1 {color: black;background-color: white;}#sk-container-id-1 pre{padding: 0;}#sk-container-id-1 div.sk-toggleable {background-color: white;}#sk-container-id-1 label.sk-toggleable__label {cursor: pointer;display: block;width: 100%;margin-bottom: 0;padding: 0.3em;box-sizing: border-box;text-align: center;}#sk-container-id-1 label.sk-toggleable__label-arrow:before {content: \"▸\";float: left;margin-right: 0.25em;color: #696969;}#sk-container-id-1 label.sk-toggleable__label-arrow:hover:before {color: black;}#sk-container-id-1 div.sk-estimator:hover label.sk-toggleable__label-arrow:before {color: black;}#sk-container-id-1 div.sk-toggleable__content {max-height: 0;max-width: 0;overflow: hidden;text-align: left;background-color: #f0f8ff;}#sk-container-id-1 div.sk-toggleable__content pre {margin: 0.2em;color: black;border-radius: 0.25em;background-color: #f0f8ff;}#sk-container-id-1 input.sk-toggleable__control:checked~div.sk-toggleable__content {max-height: 200px;max-width: 100%;overflow: auto;}#sk-container-id-1 input.sk-toggleable__control:checked~label.sk-toggleable__label-arrow:before {content: \"▾\";}#sk-container-id-1 div.sk-estimator input.sk-toggleable__control:checked~label.sk-toggleable__label {background-color: #d4ebff;}#sk-container-id-1 div.sk-label input.sk-toggleable__control:checked~label.sk-toggleable__label {background-color: #d4ebff;}#sk-container-id-1 input.sk-hidden--visually {border: 0;clip: rect(1px 1px 1px 1px);clip: rect(1px, 1px, 1px, 1px);height: 1px;margin: -1px;overflow: hidden;padding: 0;position: absolute;width: 1px;}#sk-container-id-1 div.sk-estimator {font-family: monospace;background-color: #f0f8ff;border: 1px dotted black;border-radius: 0.25em;box-sizing: border-box;margin-bottom: 0.5em;}#sk-container-id-1 div.sk-estimator:hover {background-color: #d4ebff;}#sk-container-id-1 div.sk-parallel-item::after {content: \"\";width: 100%;border-bottom: 1px solid gray;flex-grow: 1;}#sk-container-id-1 div.sk-label:hover label.sk-toggleable__label {background-color: #d4ebff;}#sk-container-id-1 div.sk-serial::before {content: \"\";position: absolute;border-left: 1px solid gray;box-sizing: border-box;top: 0;bottom: 0;left: 50%;z-index: 0;}#sk-container-id-1 div.sk-serial {display: flex;flex-direction: column;align-items: center;background-color: white;padding-right: 0.2em;padding-left: 0.2em;position: relative;}#sk-container-id-1 div.sk-item {position: relative;z-index: 1;}#sk-container-id-1 div.sk-parallel {display: flex;align-items: stretch;justify-content: center;background-color: white;position: relative;}#sk-container-id-1 div.sk-item::before, #sk-container-id-1 div.sk-parallel-item::before {content: \"\";position: absolute;border-left: 1px solid gray;box-sizing: border-box;top: 0;bottom: 0;left: 50%;z-index: -1;}#sk-container-id-1 div.sk-parallel-item {display: flex;flex-direction: column;z-index: 1;position: relative;background-color: white;}#sk-container-id-1 div.sk-parallel-item:first-child::after {align-self: flex-end;width: 50%;}#sk-container-id-1 div.sk-parallel-item:last-child::after {align-self: flex-start;width: 50%;}#sk-container-id-1 div.sk-parallel-item:only-child::after {width: 0;}#sk-container-id-1 div.sk-dashed-wrapped {border: 1px dashed gray;margin: 0 0.4em 0.5em 0.4em;box-sizing: border-box;padding-bottom: 0.4em;background-color: white;}#sk-container-id-1 div.sk-label label {font-family: monospace;font-weight: bold;display: inline-block;line-height: 1.2em;}#sk-container-id-1 div.sk-label-container {text-align: center;}#sk-container-id-1 div.sk-container {/* jupyter's `normalize.less` sets `[hidden] { display: none; }` but bootstrap.min.css set `[hidden] { display: none !important; }` so we also need the `!important` here to be able to override the default hidden behavior on the sphinx rendered scikit-learn.org. See: https://github.com/scikit-learn/scikit-learn/issues/21755 */display: inline-block !important;position: relative;}#sk-container-id-1 div.sk-text-repr-fallback {display: none;}</style><div id=\"sk-container-id-1\" class=\"sk-top-container\"><div class=\"sk-text-repr-fallback\"><pre>RandomForestRegressor(random_state=1)</pre><b>In a Jupyter environment, please rerun this cell to show the HTML representation or trust the notebook. <br />On GitHub, the HTML representation is unable to render, please try loading this page with nbviewer.org.</b></div><div class=\"sk-container\" hidden><div class=\"sk-item\"><div class=\"sk-estimator sk-toggleable\"><input class=\"sk-toggleable__control sk-hidden--visually\" id=\"sk-estimator-id-1\" type=\"checkbox\" checked><label for=\"sk-estimator-id-1\" class=\"sk-toggleable__label sk-toggleable__label-arrow\">RandomForestRegressor</label><div class=\"sk-toggleable__content\"><pre>RandomForestRegressor(random_state=1)</pre></div></div></div></div></div>"
      ],
      "text/plain": [
       "RandomForestRegressor(random_state=1)"
      ]
     },
     "execution_count": 5,
     "metadata": {},
     "output_type": "execute_result"
    }
   ],
   "source": [
    "# To improve accuracy, create a new Random Forest model which you will train on all training data\n",
    "rf_model_on_full_data = RandomForestRegressor(random_state = 1)\n",
    "\n",
    "\n",
    "# fit rf_model_on_full_data on all data from the training data\n",
    "rf_model_on_full_data.fit(X,y)"
   ]
  },
  {
   "cell_type": "markdown",
   "id": "c5a72da1",
   "metadata": {
    "papermill": {
     "duration": 0.006395,
     "end_time": "2024-09-29T12:01:10.280458",
     "exception": false,
     "start_time": "2024-09-29T12:01:10.274063",
     "status": "completed"
    },
    "tags": []
   },
   "source": [
    "Now, read the file of \"test\" data, and apply your model to make predictions."
   ]
  },
  {
   "cell_type": "code",
   "execution_count": 6,
   "id": "2f4ad9e0",
   "metadata": {
    "execution": {
     "iopub.execute_input": "2024-09-29T12:01:10.296788Z",
     "iopub.status.busy": "2024-09-29T12:01:10.296337Z",
     "iopub.status.idle": "2024-09-29T12:01:10.369943Z",
     "shell.execute_reply": "2024-09-29T12:01:10.368707Z"
    },
    "papermill": {
     "duration": 0.084675,
     "end_time": "2024-09-29T12:01:10.372953",
     "exception": false,
     "start_time": "2024-09-29T12:01:10.288278",
     "status": "completed"
    },
    "tags": []
   },
   "outputs": [],
   "source": [
    "# path to file you will use for predictions\n",
    "test_data_path = '../input/test.csv'\n",
    "\n",
    "# read test data file using pandas\n",
    "test_data = pd.read_csv(test_data_path)\n",
    "\n",
    "# create test_X which comes from test_data but includes only the columns you used for prediction.\n",
    "# The list of columns is stored in a variable called features\n",
    "test_X = test_data[features]\n",
    "\n",
    "# make predictions which we will submit. \n",
    "test_preds = rf_model_on_full_data.predict(test_X)"
   ]
  },
  {
   "cell_type": "markdown",
   "id": "f75afbf2",
   "metadata": {
    "papermill": {
     "duration": 0.00624,
     "end_time": "2024-09-29T12:01:10.385804",
     "exception": false,
     "start_time": "2024-09-29T12:01:10.379564",
     "status": "completed"
    },
    "tags": []
   },
   "source": [
    "Before submitting, run a check to make sure your `test_preds` have the right format."
   ]
  },
  {
   "cell_type": "code",
   "execution_count": 7,
   "id": "4679e344",
   "metadata": {
    "execution": {
     "iopub.execute_input": "2024-09-29T12:01:10.401587Z",
     "iopub.status.busy": "2024-09-29T12:01:10.401098Z",
     "iopub.status.idle": "2024-09-29T12:01:10.411745Z",
     "shell.execute_reply": "2024-09-29T12:01:10.410516Z"
    },
    "papermill": {
     "duration": 0.021818,
     "end_time": "2024-09-29T12:01:10.414283",
     "exception": false,
     "start_time": "2024-09-29T12:01:10.392465",
     "status": "completed"
    },
    "tags": []
   },
   "outputs": [
    {
     "data": {
      "application/javascript": [
       "parent.postMessage({\"jupyterEvent\": \"custom.exercise_interaction\", \"data\": {\"outcomeType\": 1, \"valueTowardsCompletion\": 1.0, \"interactionType\": 1, \"questionType\": 2, \"questionId\": \"1_CheckSubmittablePreds\", \"learnToolsVersion\": \"0.3.4\", \"failureMessage\": \"\", \"exceptionClass\": \"\", \"trace\": \"\"}}, \"*\")"
      ],
      "text/plain": [
       "<IPython.core.display.Javascript object>"
      ]
     },
     "metadata": {},
     "output_type": "display_data"
    },
    {
     "data": {
      "text/markdown": [
       "<span style=\"color:#33cc33\">Correct</span>"
      ],
      "text/plain": [
       "Correct"
      ]
     },
     "metadata": {},
     "output_type": "display_data"
    }
   ],
   "source": [
    "# Check your answer (To get credit for completing the exercise, you must get a \"Correct\" result!)\n",
    "step_1.check()\n",
    "# step_1.solution()"
   ]
  },
  {
   "cell_type": "markdown",
   "id": "bb3d4d11",
   "metadata": {
    "papermill": {
     "duration": 0.006383,
     "end_time": "2024-09-29T12:01:10.427488",
     "exception": false,
     "start_time": "2024-09-29T12:01:10.421105",
     "status": "completed"
    },
    "tags": []
   },
   "source": [
    "# Generate a submission\n",
    "\n",
    "Run the code cell below to generate a CSV file with your predictions that you can use to submit to the competition."
   ]
  },
  {
   "cell_type": "code",
   "execution_count": 8,
   "id": "077d1f04",
   "metadata": {
    "execution": {
     "iopub.execute_input": "2024-09-29T12:01:10.443198Z",
     "iopub.status.busy": "2024-09-29T12:01:10.442708Z",
     "iopub.status.idle": "2024-09-29T12:01:10.456890Z",
     "shell.execute_reply": "2024-09-29T12:01:10.455388Z"
    },
    "papermill": {
     "duration": 0.025438,
     "end_time": "2024-09-29T12:01:10.459775",
     "exception": false,
     "start_time": "2024-09-29T12:01:10.434337",
     "status": "completed"
    },
    "tags": []
   },
   "outputs": [],
   "source": [
    "# Run the code to save predictions in the format used for competition scoring\n",
    "\n",
    "output = pd.DataFrame({'Id': test_data.Id,\n",
    "                       'SalePrice': test_preds})\n",
    "output.to_csv('submission.csv', index=False)"
   ]
  },
  {
   "cell_type": "markdown",
   "id": "f93c3c7e",
   "metadata": {
    "papermill": {
     "duration": 0.006463,
     "end_time": "2024-09-29T12:01:10.473163",
     "exception": false,
     "start_time": "2024-09-29T12:01:10.466700",
     "status": "completed"
    },
    "tags": []
   },
   "source": [
    "# Submit to the competition\n",
    "\n",
    "To test your results, you'll need to join the competition (if you haven't already).  So open a new window by clicking on **[this link](https://www.kaggle.com/c/home-data-for-ml-course)**.  Then click on the **Join Competition** button.\n",
    "\n",
    "![join competition image](https://storage.googleapis.com/kaggle-media/learn/images/axBzctl.png)\n",
    "\n",
    "Next, follow the instructions below:\n",
    "1. Begin by clicking on the **Save Version** button in the top right corner of the window.  This will generate a pop-up window.  \n",
    "2. Ensure that the **Save and Run All** option is selected, and then click on the **Save** button.\n",
    "3. This generates a window in the bottom left corner of the notebook.  After it has finished running, click on the number to the right of the **Save Version** button.  This pulls up a list of versions on the right of the screen.  Click on the ellipsis **(...)** to the right of the most recent version, and select **Open in Viewer**.  This brings you into view mode of the same page. You will need to scroll down to get back to these instructions.\n",
    "4. Click on the **Data** tab near the top of the screen.  Then, click on the file you would like to submit, and click on the **Submit** button to submit your results to the leaderboard.\n",
    "\n",
    "You have now successfully submitted to the competition!\n",
    "\n",
    "If you want to keep working to improve your performance, select the **Edit** button in the top right of the screen. Then you can change your code and repeat the process. There's a lot of room to improve, and you will climb up the leaderboard as you work.\n",
    "\n",
    "\n",
    "# Continue Your Progress\n",
    "There are many ways to improve your model, and **experimenting is a great way to learn at this point.**\n",
    "\n",
    "The best way to improve your model is to add features.  To add more features to the data, revisit the first code cell, and change this line of code to include more column names:\n",
    "```python\n",
    "features = ['LotArea', 'YearBuilt', '1stFlrSF', '2ndFlrSF', 'FullBath', 'BedroomAbvGr', 'TotRmsAbvGrd']\n",
    "```\n",
    "\n",
    "Some features will cause errors because of issues like missing values or non-numeric data types.  Here is a complete list of potential columns that you might like to use, and that won't throw errors:\n",
    "- 'MSSubClass'\n",
    "- 'LotArea'\n",
    "- 'OverallQual' \n",
    "- 'OverallCond' \n",
    "- 'YearBuilt'\n",
    "- 'YearRemodAdd' \n",
    "- '1stFlrSF'\n",
    "- '2ndFlrSF' \n",
    "- 'LowQualFinSF' \n",
    "- 'GrLivArea'\n",
    "- 'FullBath'\n",
    "- 'HalfBath'\n",
    "- 'BedroomAbvGr' \n",
    "- 'KitchenAbvGr' \n",
    "- 'TotRmsAbvGrd' \n",
    "- 'Fireplaces' \n",
    "- 'WoodDeckSF' \n",
    "- 'OpenPorchSF'\n",
    "- 'EnclosedPorch' \n",
    "- '3SsnPorch' \n",
    "- 'ScreenPorch' \n",
    "- 'PoolArea' \n",
    "- 'MiscVal' \n",
    "- 'MoSold' \n",
    "- 'YrSold'\n",
    "\n",
    "Look at the list of columns and think about what might affect home prices.  To learn more about each of these features, take a look at the data description on the **[competition page](https://www.kaggle.com/c/home-data-for-ml-course/data)**.\n",
    "\n",
    "After updating the code cell above that defines the features, re-run all of the code cells to evaluate the model and generate a new submission file.  \n",
    "\n",
    "\n",
    "# What's next?\n",
    "\n",
    "As mentioned above, some of the features will throw an error if you try to use them to train your model.  The **[Intermediate Machine Learning](https://www.kaggle.com/learn/intermediate-machine-learning)** course will teach you how to handle these types of features. You will also learn to use **xgboost**, a technique giving even better accuracy than Random Forest.\n",
    "\n",
    "The **[Pandas](https://kaggle.com/Learn/Pandas)** course will give you the data manipulation skills to quickly go from conceptual idea to implementation in your data science projects. \n",
    "\n",
    "You are also ready for the **[Deep Learning](https://kaggle.com/Learn/intro-to-Deep-Learning)** course, where you will build models with better-than-human level performance at computer vision tasks."
   ]
  },
  {
   "cell_type": "markdown",
   "id": "c9e9febd",
   "metadata": {
    "papermill": {
     "duration": 0.006434,
     "end_time": "2024-09-29T12:01:10.486326",
     "exception": false,
     "start_time": "2024-09-29T12:01:10.479892",
     "status": "completed"
    },
    "tags": []
   },
   "source": [
    "---\n",
    "\n",
    "\n",
    "\n",
    "\n",
    "*Have questions or comments? Visit the [course discussion forum](https://www.kaggle.com/learn/intro-to-machine-learning/discussion) to chat with other learners.*"
   ]
  }
 ],
 "metadata": {
  "kaggle": {
   "accelerator": "none",
   "dataSources": [
    {
     "databundleVersionId": 111096,
     "sourceId": 10211,
     "sourceType": "competition"
    }
   ],
   "isGpuEnabled": false,
   "isInternetEnabled": false,
   "language": "python",
   "sourceType": "notebook"
  },
  "kernelspec": {
   "display_name": "Python 3",
   "language": "python",
   "name": "python3"
  },
  "language_info": {
   "codemirror_mode": {
    "name": "ipython",
    "version": 3
   },
   "file_extension": ".py",
   "mimetype": "text/x-python",
   "name": "python",
   "nbconvert_exporter": "python",
   "pygments_lexer": "ipython3",
   "version": "3.10.14"
  },
  "papermill": {
   "default_parameters": {},
   "duration": 13.314575,
   "end_time": "2024-09-29T12:01:11.114752",
   "environment_variables": {},
   "exception": null,
   "input_path": "__notebook__.ipynb",
   "output_path": "__notebook__.ipynb",
   "parameters": {},
   "start_time": "2024-09-29T12:00:57.800177",
   "version": "2.6.0"
  }
 },
 "nbformat": 4,
 "nbformat_minor": 5
}
