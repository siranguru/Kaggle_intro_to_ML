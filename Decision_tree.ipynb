{
 "cells": [
  {
   "cell_type": "markdown",
   "id": "148d5808",
   "metadata": {
    "papermill": {
     "duration": 0.007804,
     "end_time": "2024-09-29T11:52:09.409858",
     "exception": false,
     "start_time": "2024-09-29T11:52:09.402054",
     "status": "completed"
    },
    "tags": []
   },
   "source": [
    "**This notebook is an exercise in the [Introduction to Machine Learning](https://www.kaggle.com/learn/intro-to-machine-learning) course.  You can reference the tutorial at [this link](https://www.kaggle.com/dansbecker/your-first-machine-learning-model).**\n",
    "\n",
    "---\n"
   ]
  },
  {
   "cell_type": "markdown",
   "id": "716956e3",
   "metadata": {
    "papermill": {
     "duration": 0.00744,
     "end_time": "2024-09-29T11:52:09.425493",
     "exception": false,
     "start_time": "2024-09-29T11:52:09.418053",
     "status": "completed"
    },
    "tags": []
   },
   "source": [
    "## Recap\n",
    "So far, you have loaded your data and reviewed it with the following code. Run this cell to set up your coding environment where the previous step left off."
   ]
  },
  {
   "cell_type": "code",
   "execution_count": 1,
   "id": "a9cea49d",
   "metadata": {
    "execution": {
     "iopub.execute_input": "2024-09-29T11:52:09.441323Z",
     "iopub.status.busy": "2024-09-29T11:52:09.440887Z",
     "iopub.status.idle": "2024-09-29T11:52:12.037148Z",
     "shell.execute_reply": "2024-09-29T11:52:12.035619Z"
    },
    "papermill": {
     "duration": 2.607343,
     "end_time": "2024-09-29T11:52:12.039727",
     "exception": false,
     "start_time": "2024-09-29T11:52:09.432384",
     "status": "completed"
    },
    "tags": []
   },
   "outputs": [
    {
     "name": "stdout",
     "output_type": "stream",
     "text": [
      "Setup Complete\n"
     ]
    }
   ],
   "source": [
    "# Code you have previously used to load data\n",
    "import pandas as pd\n",
    "\n",
    "# Path of the file to read\n",
    "iowa_file_path = '../input/home-data-for-ml-course/train.csv'\n",
    "\n",
    "home_data = pd.read_csv(iowa_file_path)\n",
    "\n",
    "# Set up code checking\n",
    "from learntools.core import binder\n",
    "binder.bind(globals())\n",
    "from learntools.machine_learning.ex3 import *\n",
    "\n",
    "print(\"Setup Complete\")"
   ]
  },
  {
   "cell_type": "markdown",
   "id": "172b1ea8",
   "metadata": {
    "papermill": {
     "duration": 0.006934,
     "end_time": "2024-09-29T11:52:12.053782",
     "exception": false,
     "start_time": "2024-09-29T11:52:12.046848",
     "status": "completed"
    },
    "tags": []
   },
   "source": [
    "# Exercises\n",
    "\n",
    "## Step 1: Specify Prediction Target\n",
    "Select the target variable, which corresponds to the sales price. Save this to a new variable called `y`. You'll need to print a list of the columns to find the name of the column you need.\n"
   ]
  },
  {
   "cell_type": "code",
   "execution_count": 2,
   "id": "4ea27e11",
   "metadata": {
    "execution": {
     "iopub.execute_input": "2024-09-29T11:52:12.070186Z",
     "iopub.status.busy": "2024-09-29T11:52:12.069097Z",
     "iopub.status.idle": "2024-09-29T11:52:12.076844Z",
     "shell.execute_reply": "2024-09-29T11:52:12.075818Z"
    },
    "papermill": {
     "duration": 0.018771,
     "end_time": "2024-09-29T11:52:12.079450",
     "exception": false,
     "start_time": "2024-09-29T11:52:12.060679",
     "status": "completed"
    },
    "tags": []
   },
   "outputs": [
    {
     "name": "stdout",
     "output_type": "stream",
     "text": [
      "Index(['Id', 'MSSubClass', 'MSZoning', 'LotFrontage', 'LotArea', 'Street',\n",
      "       'Alley', 'LotShape', 'LandContour', 'Utilities', 'LotConfig',\n",
      "       'LandSlope', 'Neighborhood', 'Condition1', 'Condition2', 'BldgType',\n",
      "       'HouseStyle', 'OverallQual', 'OverallCond', 'YearBuilt', 'YearRemodAdd',\n",
      "       'RoofStyle', 'RoofMatl', 'Exterior1st', 'Exterior2nd', 'MasVnrType',\n",
      "       'MasVnrArea', 'ExterQual', 'ExterCond', 'Foundation', 'BsmtQual',\n",
      "       'BsmtCond', 'BsmtExposure', 'BsmtFinType1', 'BsmtFinSF1',\n",
      "       'BsmtFinType2', 'BsmtFinSF2', 'BsmtUnfSF', 'TotalBsmtSF', 'Heating',\n",
      "       'HeatingQC', 'CentralAir', 'Electrical', '1stFlrSF', '2ndFlrSF',\n",
      "       'LowQualFinSF', 'GrLivArea', 'BsmtFullBath', 'BsmtHalfBath', 'FullBath',\n",
      "       'HalfBath', 'BedroomAbvGr', 'KitchenAbvGr', 'KitchenQual',\n",
      "       'TotRmsAbvGrd', 'Functional', 'Fireplaces', 'FireplaceQu', 'GarageType',\n",
      "       'GarageYrBlt', 'GarageFinish', 'GarageCars', 'GarageArea', 'GarageQual',\n",
      "       'GarageCond', 'PavedDrive', 'WoodDeckSF', 'OpenPorchSF',\n",
      "       'EnclosedPorch', '3SsnPorch', 'ScreenPorch', 'PoolArea', 'PoolQC',\n",
      "       'Fence', 'MiscFeature', 'MiscVal', 'MoSold', 'YrSold', 'SaleType',\n",
      "       'SaleCondition', 'SalePrice'],\n",
      "      dtype='object')\n"
     ]
    }
   ],
   "source": [
    "# print the list of columns in the dataset to find the name of the prediction target\n",
    "print(home_data.columns)"
   ]
  },
  {
   "cell_type": "code",
   "execution_count": 3,
   "id": "7975ee95",
   "metadata": {
    "execution": {
     "iopub.execute_input": "2024-09-29T11:52:12.095664Z",
     "iopub.status.busy": "2024-09-29T11:52:12.094922Z",
     "iopub.status.idle": "2024-09-29T11:52:12.110772Z",
     "shell.execute_reply": "2024-09-29T11:52:12.109759Z"
    },
    "papermill": {
     "duration": 0.026647,
     "end_time": "2024-09-29T11:52:12.113203",
     "exception": false,
     "start_time": "2024-09-29T11:52:12.086556",
     "status": "completed"
    },
    "tags": []
   },
   "outputs": [
    {
     "data": {
      "application/javascript": [
       "parent.postMessage({\"jupyterEvent\": \"custom.exercise_interaction\", \"data\": {\"outcomeType\": 1, \"valueTowardsCompletion\": 0.25, \"interactionType\": 1, \"questionType\": 2, \"questionId\": \"1_SetTarget\", \"learnToolsVersion\": \"0.3.4\", \"failureMessage\": \"\", \"exceptionClass\": \"\", \"trace\": \"\"}}, \"*\")"
      ],
      "text/plain": [
       "<IPython.core.display.Javascript object>"
      ]
     },
     "metadata": {},
     "output_type": "display_data"
    },
    {
     "data": {
      "text/markdown": [
       "<span style=\"color:#33cc33\">Correct</span>"
      ],
      "text/plain": [
       "Correct"
      ]
     },
     "metadata": {},
     "output_type": "display_data"
    }
   ],
   "source": [
    "y = home_data.SalePrice\n",
    "\n",
    "# Check your answer\n",
    "step_1.check()"
   ]
  },
  {
   "cell_type": "code",
   "execution_count": 4,
   "id": "e50cf460",
   "metadata": {
    "execution": {
     "iopub.execute_input": "2024-09-29T11:52:12.129799Z",
     "iopub.status.busy": "2024-09-29T11:52:12.129372Z",
     "iopub.status.idle": "2024-09-29T11:52:12.133795Z",
     "shell.execute_reply": "2024-09-29T11:52:12.132763Z"
    },
    "papermill": {
     "duration": 0.015363,
     "end_time": "2024-09-29T11:52:12.136066",
     "exception": false,
     "start_time": "2024-09-29T11:52:12.120703",
     "status": "completed"
    },
    "tags": []
   },
   "outputs": [],
   "source": [
    "# The lines below will show you a hint or the solution.\n",
    "# step_1.hint() \n",
    "# step_1.solution()"
   ]
  },
  {
   "cell_type": "markdown",
   "id": "f1d1505d",
   "metadata": {
    "papermill": {
     "duration": 0.007998,
     "end_time": "2024-09-29T11:52:12.151476",
     "exception": false,
     "start_time": "2024-09-29T11:52:12.143478",
     "status": "completed"
    },
    "tags": []
   },
   "source": [
    "## Step 2: Create X\n",
    "Now you will create a DataFrame called `X` holding the predictive features.\n",
    "\n",
    "Since you want only some columns from the original data, you'll first create a list with the names of the columns you want in `X`.\n",
    "\n",
    "You'll use just the following columns in the list (you can copy and paste the whole list to save some typing, though you'll still need to add quotes):\n",
    "  * LotArea\n",
    "  * YearBuilt\n",
    "  * 1stFlrSF\n",
    "  * 2ndFlrSF\n",
    "  * FullBath\n",
    "  * BedroomAbvGr\n",
    "  * TotRmsAbvGrd\n",
    "\n",
    "After you've created that list of features, use it to create the DataFrame that you'll use to fit the model."
   ]
  },
  {
   "cell_type": "code",
   "execution_count": 5,
   "id": "f794f616",
   "metadata": {
    "execution": {
     "iopub.execute_input": "2024-09-29T11:52:12.167622Z",
     "iopub.status.busy": "2024-09-29T11:52:12.167162Z",
     "iopub.status.idle": "2024-09-29T11:52:12.180466Z",
     "shell.execute_reply": "2024-09-29T11:52:12.179444Z"
    },
    "papermill": {
     "duration": 0.024012,
     "end_time": "2024-09-29T11:52:12.182671",
     "exception": false,
     "start_time": "2024-09-29T11:52:12.158659",
     "status": "completed"
    },
    "tags": []
   },
   "outputs": [
    {
     "data": {
      "application/javascript": [
       "parent.postMessage({\"jupyterEvent\": \"custom.exercise_interaction\", \"data\": {\"outcomeType\": 1, \"valueTowardsCompletion\": 0.25, \"interactionType\": 1, \"questionType\": 2, \"questionId\": \"2_SelectPredictionData\", \"learnToolsVersion\": \"0.3.4\", \"failureMessage\": \"\", \"exceptionClass\": \"\", \"trace\": \"\"}}, \"*\")"
      ],
      "text/plain": [
       "<IPython.core.display.Javascript object>"
      ]
     },
     "metadata": {},
     "output_type": "display_data"
    },
    {
     "data": {
      "text/markdown": [
       "<span style=\"color:#33cc33\">Correct</span>"
      ],
      "text/plain": [
       "Correct"
      ]
     },
     "metadata": {},
     "output_type": "display_data"
    }
   ],
   "source": [
    "# Create the list of features below\n",
    "feature_names = ['LotArea', 'YearBuilt', '1stFlrSF', '2ndFlrSF', 'FullBath', 'BedroomAbvGr', 'TotRmsAbvGrd']\n",
    "\n",
    "# Select data corresponding to features in feature_names\n",
    "X = home_data[feature_names]\n",
    "\n",
    "# Check your answer\n",
    "step_2.check()"
   ]
  },
  {
   "cell_type": "code",
   "execution_count": 6,
   "id": "72f36345",
   "metadata": {
    "execution": {
     "iopub.execute_input": "2024-09-29T11:52:12.200504Z",
     "iopub.status.busy": "2024-09-29T11:52:12.200019Z",
     "iopub.status.idle": "2024-09-29T11:52:12.204844Z",
     "shell.execute_reply": "2024-09-29T11:52:12.203618Z"
    },
    "papermill": {
     "duration": 0.016848,
     "end_time": "2024-09-29T11:52:12.207580",
     "exception": false,
     "start_time": "2024-09-29T11:52:12.190732",
     "status": "completed"
    },
    "tags": []
   },
   "outputs": [],
   "source": [
    "# step_2.hint()\n",
    "# step_2.solution()"
   ]
  },
  {
   "cell_type": "markdown",
   "id": "f2b559cd",
   "metadata": {
    "papermill": {
     "duration": 0.007498,
     "end_time": "2024-09-29T11:52:12.223010",
     "exception": false,
     "start_time": "2024-09-29T11:52:12.215512",
     "status": "completed"
    },
    "tags": []
   },
   "source": [
    "## Review Data\n",
    "Before building a model, take a quick look at **X** to verify it looks sensible"
   ]
  },
  {
   "cell_type": "code",
   "execution_count": 7,
   "id": "56cdc0dd",
   "metadata": {
    "execution": {
     "iopub.execute_input": "2024-09-29T11:52:12.240315Z",
     "iopub.status.busy": "2024-09-29T11:52:12.239884Z",
     "iopub.status.idle": "2024-09-29T11:52:12.256750Z",
     "shell.execute_reply": "2024-09-29T11:52:12.255608Z"
    },
    "papermill": {
     "duration": 0.028389,
     "end_time": "2024-09-29T11:52:12.259152",
     "exception": false,
     "start_time": "2024-09-29T11:52:12.230763",
     "status": "completed"
    },
    "tags": []
   },
   "outputs": [
    {
     "name": "stdout",
     "output_type": "stream",
     "text": [
      "<bound method NDFrame.describe of       LotArea  YearBuilt  1stFlrSF  2ndFlrSF  FullBath  BedroomAbvGr  \\\n",
      "0        8450       2003       856       854         2             3   \n",
      "1        9600       1976      1262         0         2             3   \n",
      "2       11250       2001       920       866         2             3   \n",
      "3        9550       1915       961       756         1             3   \n",
      "4       14260       2000      1145      1053         2             4   \n",
      "...       ...        ...       ...       ...       ...           ...   \n",
      "1455     7917       1999       953       694         2             3   \n",
      "1456    13175       1978      2073         0         2             3   \n",
      "1457     9042       1941      1188      1152         2             4   \n",
      "1458     9717       1950      1078         0         1             2   \n",
      "1459     9937       1965      1256         0         1             3   \n",
      "\n",
      "      TotRmsAbvGrd  \n",
      "0                8  \n",
      "1                6  \n",
      "2                6  \n",
      "3                7  \n",
      "4                9  \n",
      "...            ...  \n",
      "1455             7  \n",
      "1456             7  \n",
      "1457             9  \n",
      "1458             5  \n",
      "1459             6  \n",
      "\n",
      "[1460 rows x 7 columns]>\n",
      "2010\n",
      "   LotArea  YearBuilt  1stFlrSF  2ndFlrSF  FullBath  BedroomAbvGr  \\\n",
      "0     8450       2003       856       854         2             3   \n",
      "1     9600       1976      1262         0         2             3   \n",
      "2    11250       2001       920       866         2             3   \n",
      "3     9550       1915       961       756         1             3   \n",
      "4    14260       2000      1145      1053         2             4   \n",
      "\n",
      "   TotRmsAbvGrd  \n",
      "0             8  \n",
      "1             6  \n",
      "2             6  \n",
      "3             7  \n",
      "4             9  \n"
     ]
    }
   ],
   "source": [
    "# Review data\n",
    "# print description or statistics from X\n",
    "print(X.describe)\n",
    "print(X.YearBuilt.max())\n",
    "# print the top few lines\n",
    "print(X.head())"
   ]
  },
  {
   "cell_type": "markdown",
   "id": "0c5ce1a0",
   "metadata": {
    "papermill": {
     "duration": 0.007604,
     "end_time": "2024-09-29T11:52:12.274770",
     "exception": false,
     "start_time": "2024-09-29T11:52:12.267166",
     "status": "completed"
    },
    "tags": []
   },
   "source": [
    "## Step 3: Specify and Fit Model\n",
    "Create a `DecisionTreeRegressor` and save it iowa_model. Ensure you've done the relevant import from sklearn to run this command.\n",
    "\n",
    "Then fit the model you just created using the data in `X` and `y` that you saved above."
   ]
  },
  {
   "cell_type": "code",
   "execution_count": 8,
   "id": "8c4007b4",
   "metadata": {
    "execution": {
     "iopub.execute_input": "2024-09-29T11:52:12.292810Z",
     "iopub.status.busy": "2024-09-29T11:52:12.292358Z",
     "iopub.status.idle": "2024-09-29T11:52:12.314645Z",
     "shell.execute_reply": "2024-09-29T11:52:12.313480Z"
    },
    "papermill": {
     "duration": 0.034129,
     "end_time": "2024-09-29T11:52:12.317185",
     "exception": false,
     "start_time": "2024-09-29T11:52:12.283056",
     "status": "completed"
    },
    "tags": []
   },
   "outputs": [
    {
     "data": {
      "application/javascript": [
       "parent.postMessage({\"jupyterEvent\": \"custom.exercise_interaction\", \"data\": {\"outcomeType\": 1, \"valueTowardsCompletion\": 0.25, \"interactionType\": 1, \"questionType\": 2, \"questionId\": \"3_CreateModel\", \"learnToolsVersion\": \"0.3.4\", \"failureMessage\": \"\", \"exceptionClass\": \"\", \"trace\": \"\"}}, \"*\")"
      ],
      "text/plain": [
       "<IPython.core.display.Javascript object>"
      ]
     },
     "metadata": {},
     "output_type": "display_data"
    },
    {
     "data": {
      "text/markdown": [
       "<span style=\"color:#33cc33\">Correct</span>"
      ],
      "text/plain": [
       "Correct"
      ]
     },
     "metadata": {},
     "output_type": "display_data"
    }
   ],
   "source": [
    "from sklearn.tree import DecisionTreeRegressor\n",
    "#specify the model. \n",
    "#For model reproducibility, set a numeric value for random_state when specifying the model\n",
    "iowa_model = DecisionTreeRegressor(random_state = 1)\n",
    "\n",
    "# Fit the model\n",
    "iowa_model.fit(X,y)\n",
    "\n",
    "# Check your answer\n",
    "step_3.check()"
   ]
  },
  {
   "cell_type": "code",
   "execution_count": 9,
   "id": "b5117563",
   "metadata": {
    "execution": {
     "iopub.execute_input": "2024-09-29T11:52:12.336254Z",
     "iopub.status.busy": "2024-09-29T11:52:12.335268Z",
     "iopub.status.idle": "2024-09-29T11:52:12.339959Z",
     "shell.execute_reply": "2024-09-29T11:52:12.338815Z"
    },
    "papermill": {
     "duration": 0.016988,
     "end_time": "2024-09-29T11:52:12.342462",
     "exception": false,
     "start_time": "2024-09-29T11:52:12.325474",
     "status": "completed"
    },
    "tags": []
   },
   "outputs": [],
   "source": [
    "# step_3.hint()\n",
    "# step_3.solution()"
   ]
  },
  {
   "cell_type": "markdown",
   "id": "c064e07f",
   "metadata": {
    "papermill": {
     "duration": 0.008053,
     "end_time": "2024-09-29T11:52:12.358949",
     "exception": false,
     "start_time": "2024-09-29T11:52:12.350896",
     "status": "completed"
    },
    "tags": []
   },
   "source": [
    "## Step 4: Make Predictions\n",
    "Make predictions with the model's `predict` command using `X` as the data. Save the results to a variable called `predictions`."
   ]
  },
  {
   "cell_type": "code",
   "execution_count": 10,
   "id": "b2b558f5",
   "metadata": {
    "execution": {
     "iopub.execute_input": "2024-09-29T11:52:12.377206Z",
     "iopub.status.busy": "2024-09-29T11:52:12.376758Z",
     "iopub.status.idle": "2024-09-29T11:52:12.391145Z",
     "shell.execute_reply": "2024-09-29T11:52:12.389916Z"
    },
    "papermill": {
     "duration": 0.026369,
     "end_time": "2024-09-29T11:52:12.393465",
     "exception": false,
     "start_time": "2024-09-29T11:52:12.367096",
     "status": "completed"
    },
    "tags": []
   },
   "outputs": [
    {
     "name": "stdout",
     "output_type": "stream",
     "text": [
      "[208500. 181500. 223500. ... 266500. 142125. 147500.]\n"
     ]
    },
    {
     "data": {
      "application/javascript": [
       "parent.postMessage({\"jupyterEvent\": \"custom.exercise_interaction\", \"data\": {\"outcomeType\": 1, \"valueTowardsCompletion\": 0.25, \"interactionType\": 1, \"questionType\": 2, \"questionId\": \"4_MakePredictions\", \"learnToolsVersion\": \"0.3.4\", \"failureMessage\": \"\", \"exceptionClass\": \"\", \"trace\": \"\"}}, \"*\")"
      ],
      "text/plain": [
       "<IPython.core.display.Javascript object>"
      ]
     },
     "metadata": {},
     "output_type": "display_data"
    },
    {
     "data": {
      "text/markdown": [
       "<span style=\"color:#33cc33\">Correct</span>"
      ],
      "text/plain": [
       "Correct"
      ]
     },
     "metadata": {},
     "output_type": "display_data"
    }
   ],
   "source": [
    "predictions = iowa_model.predict(X)\n",
    "print(predictions)\n",
    "\n",
    "# Check your answer\n",
    "step_4.check()"
   ]
  },
  {
   "cell_type": "code",
   "execution_count": 11,
   "id": "5669122d",
   "metadata": {
    "execution": {
     "iopub.execute_input": "2024-09-29T11:52:12.412944Z",
     "iopub.status.busy": "2024-09-29T11:52:12.412227Z",
     "iopub.status.idle": "2024-09-29T11:52:12.417120Z",
     "shell.execute_reply": "2024-09-29T11:52:12.415870Z"
    },
    "papermill": {
     "duration": 0.01752,
     "end_time": "2024-09-29T11:52:12.419592",
     "exception": false,
     "start_time": "2024-09-29T11:52:12.402072",
     "status": "completed"
    },
    "tags": []
   },
   "outputs": [],
   "source": [
    "# step_4.hint()\n",
    "# step_4.solution()"
   ]
  },
  {
   "cell_type": "markdown",
   "id": "2c48d754",
   "metadata": {
    "papermill": {
     "duration": 0.008332,
     "end_time": "2024-09-29T11:52:12.436751",
     "exception": false,
     "start_time": "2024-09-29T11:52:12.428419",
     "status": "completed"
    },
    "tags": []
   },
   "source": [
    "## Think About Your Results\n",
    "\n",
    "Use the `head` method to compare the top few predictions to the actual home values (in `y`) for those same homes. Anything surprising?\n"
   ]
  },
  {
   "cell_type": "code",
   "execution_count": 12,
   "id": "f3cd4dc8",
   "metadata": {
    "execution": {
     "iopub.execute_input": "2024-09-29T11:52:12.455906Z",
     "iopub.status.busy": "2024-09-29T11:52:12.455501Z",
     "iopub.status.idle": "2024-09-29T11:52:12.471222Z",
     "shell.execute_reply": "2024-09-29T11:52:12.470058Z"
    },
    "papermill": {
     "duration": 0.028945,
     "end_time": "2024-09-29T11:52:12.474392",
     "exception": false,
     "start_time": "2024-09-29T11:52:12.445447",
     "status": "completed"
    },
    "tags": []
   },
   "outputs": [
    {
     "name": "stdout",
     "output_type": "stream",
     "text": [
      "0    0.0\n",
      "1    0.0\n",
      "2    0.0\n",
      "3    0.0\n",
      "4    0.0\n",
      "Name: SalePrice, dtype: float64\n",
      "-1.9934130449817605e-14\n",
      "62.35433789954339\n"
     ]
    }
   ],
   "source": [
    "# You can write code in this cell\n",
    "y_pred = iowa_model.predict(X.head())\n",
    "y_real = y.head()\n",
    "\n",
    "err_val = y_real - y_pred\n",
    "print(err_val)\n",
    "\n",
    "\n",
    "y_pred = iowa_model.predict(X)\n",
    "y_real = y\n",
    "\n",
    "err_val = y_real - y_pred\n",
    "print(sum(err_val)/len(err_val))\n",
    "\n",
    "print((sum(abs(err_val))/len(err_val)))\n",
    "\n"
   ]
  },
  {
   "cell_type": "markdown",
   "id": "dffaa968",
   "metadata": {
    "papermill": {
     "duration": 0.008631,
     "end_time": "2024-09-29T11:52:12.491946",
     "exception": false,
     "start_time": "2024-09-29T11:52:12.483315",
     "status": "completed"
    },
    "tags": []
   },
   "source": [
    "It's natural to ask how accurate the model's predictions will be and how you can improve that. That will be you're next step.\n",
    "\n",
    "# Keep Going\n",
    "\n",
    "You are ready for **[Model Validation](https://www.kaggle.com/dansbecker/model-validation).**\n"
   ]
  },
  {
   "cell_type": "markdown",
   "id": "a1c5070d",
   "metadata": {
    "papermill": {
     "duration": 0.008483,
     "end_time": "2024-09-29T11:52:12.509164",
     "exception": false,
     "start_time": "2024-09-29T11:52:12.500681",
     "status": "completed"
    },
    "tags": []
   },
   "source": [
    "---\n",
    "\n",
    "\n",
    "\n",
    "\n",
    "*Have questions or comments? Visit the [course discussion forum](https://www.kaggle.com/learn/intro-to-machine-learning/discussion) to chat with other learners.*"
   ]
  }
 ],
 "metadata": {
  "kaggle": {
   "accelerator": "none",
   "dataSources": [
    {
     "databundleVersionId": 111096,
     "sourceId": 10211,
     "sourceType": "competition"
    },
    {
     "datasetId": 11167,
     "sourceId": 15520,
     "sourceType": "datasetVersion"
    },
    {
     "datasetId": 2709,
     "sourceId": 38454,
     "sourceType": "datasetVersion"
    }
   ],
   "isGpuEnabled": false,
   "isInternetEnabled": false,
   "language": "python",
   "sourceType": "notebook"
  },
  "kernelspec": {
   "display_name": "Python 3",
   "language": "python",
   "name": "python3"
  },
  "language_info": {
   "codemirror_mode": {
    "name": "ipython",
    "version": 3
   },
   "file_extension": ".py",
   "mimetype": "text/x-python",
   "name": "python",
   "nbconvert_exporter": "python",
   "pygments_lexer": "ipython3",
   "version": "3.10.14"
  },
  "papermill": {
   "default_parameters": {},
   "duration": 6.692444,
   "end_time": "2024-09-29T11:52:13.138760",
   "environment_variables": {},
   "exception": null,
   "input_path": "__notebook__.ipynb",
   "output_path": "__notebook__.ipynb",
   "parameters": {},
   "start_time": "2024-09-29T11:52:06.446316",
   "version": "2.6.0"
  }
 },
 "nbformat": 4,
 "nbformat_minor": 5
}
