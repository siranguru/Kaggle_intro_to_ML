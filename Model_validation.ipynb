{
 "cells": [
  {
   "cell_type": "markdown",
   "id": "e2008bc9",
   "metadata": {
    "papermill": {
     "duration": 0.006701,
     "end_time": "2024-09-29T11:53:29.644874",
     "exception": false,
     "start_time": "2024-09-29T11:53:29.638173",
     "status": "completed"
    },
    "tags": []
   },
   "source": [
    "**This notebook is an exercise in the [Introduction to Machine Learning](https://www.kaggle.com/learn/intro-to-machine-learning) course.  You can reference the tutorial at [this link](https://www.kaggle.com/dansbecker/model-validation).**\n",
    "\n",
    "---\n"
   ]
  },
  {
   "cell_type": "markdown",
   "id": "96c1aaa0",
   "metadata": {
    "papermill": {
     "duration": 0.005698,
     "end_time": "2024-09-29T11:53:29.656697",
     "exception": false,
     "start_time": "2024-09-29T11:53:29.650999",
     "status": "completed"
    },
    "tags": []
   },
   "source": [
    "## Recap\n",
    "You've built a model. In this exercise you will test how good your model is.\n",
    "\n",
    "Run the cell below to set up your coding environment where the previous exercise left off."
   ]
  },
  {
   "cell_type": "code",
   "execution_count": 1,
   "id": "8e6d6559",
   "metadata": {
    "execution": {
     "iopub.execute_input": "2024-09-29T11:53:29.670406Z",
     "iopub.status.busy": "2024-09-29T11:53:29.669965Z",
     "iopub.status.idle": "2024-09-29T11:53:32.353190Z",
     "shell.execute_reply": "2024-09-29T11:53:32.351650Z"
    },
    "papermill": {
     "duration": 2.693392,
     "end_time": "2024-09-29T11:53:32.355982",
     "exception": false,
     "start_time": "2024-09-29T11:53:29.662590",
     "status": "completed"
    },
    "tags": []
   },
   "outputs": [
    {
     "name": "stdout",
     "output_type": "stream",
     "text": [
      "First in-sample predictions: [208500. 181500. 223500. 140000. 250000.]\n",
      "Actual target values for those homes: [208500, 181500, 223500, 140000, 250000]\n",
      "Setup Complete\n"
     ]
    }
   ],
   "source": [
    "# Code you have previously used to load data\n",
    "import pandas as pd\n",
    "from sklearn.tree import DecisionTreeRegressor\n",
    "\n",
    "# Path of the file to read\n",
    "iowa_file_path = '../input/home-data-for-ml-course/train.csv'\n",
    "\n",
    "home_data = pd.read_csv(iowa_file_path)\n",
    "y = home_data.SalePrice\n",
    "feature_columns = ['LotArea', 'YearBuilt', '1stFlrSF', '2ndFlrSF', 'FullBath', 'BedroomAbvGr', 'TotRmsAbvGrd']\n",
    "X = home_data[feature_columns]\n",
    "\n",
    "# Specify Model\n",
    "iowa_model = DecisionTreeRegressor()\n",
    "# Fit Model\n",
    "iowa_model.fit(X, y)\n",
    "\n",
    "print(\"First in-sample predictions:\", iowa_model.predict(X.head()))\n",
    "print(\"Actual target values for those homes:\", y.head().tolist())\n",
    "\n",
    "# Set up code checking\n",
    "from learntools.core import binder\n",
    "binder.bind(globals())\n",
    "from learntools.machine_learning.ex4 import *\n",
    "print(\"Setup Complete\")"
   ]
  },
  {
   "cell_type": "markdown",
   "id": "4d025198",
   "metadata": {
    "papermill": {
     "duration": 0.005769,
     "end_time": "2024-09-29T11:53:32.368056",
     "exception": false,
     "start_time": "2024-09-29T11:53:32.362287",
     "status": "completed"
    },
    "tags": []
   },
   "source": [
    "# Exercises\n",
    "\n",
    "## Step 1: Split Your Data\n",
    "Use the `train_test_split` function to split up your data.\n",
    "\n",
    "Give it the argument `random_state=1` so the `check` functions know what to expect when verifying your code.\n",
    "\n",
    "Recall, your features are loaded in the DataFrame **X** and your target is loaded in **y**.\n"
   ]
  },
  {
   "cell_type": "code",
   "execution_count": 2,
   "id": "f01f9a18",
   "metadata": {
    "execution": {
     "iopub.execute_input": "2024-09-29T11:53:32.383154Z",
     "iopub.status.busy": "2024-09-29T11:53:32.382011Z",
     "iopub.status.idle": "2024-09-29T11:53:32.399667Z",
     "shell.execute_reply": "2024-09-29T11:53:32.398582Z"
    },
    "papermill": {
     "duration": 0.028295,
     "end_time": "2024-09-29T11:53:32.402357",
     "exception": false,
     "start_time": "2024-09-29T11:53:32.374062",
     "status": "completed"
    },
    "tags": []
   },
   "outputs": [
    {
     "data": {
      "application/javascript": [
       "parent.postMessage({\"jupyterEvent\": \"custom.exercise_interaction\", \"data\": {\"outcomeType\": 1, \"valueTowardsCompletion\": 0.25, \"interactionType\": 1, \"questionType\": 2, \"questionId\": \"1_SplitData\", \"learnToolsVersion\": \"0.3.4\", \"failureMessage\": \"\", \"exceptionClass\": \"\", \"trace\": \"\"}}, \"*\")"
      ],
      "text/plain": [
       "<IPython.core.display.Javascript object>"
      ]
     },
     "metadata": {},
     "output_type": "display_data"
    },
    {
     "data": {
      "text/markdown": [
       "<span style=\"color:#33cc33\">Correct</span>"
      ],
      "text/plain": [
       "Correct"
      ]
     },
     "metadata": {},
     "output_type": "display_data"
    }
   ],
   "source": [
    "# Import the train_test_split function and uncomment\n",
    "from sklearn.model_selection import train_test_split\n",
    "\n",
    "# fill in and uncomment\n",
    "train_X, val_X, train_y, val_y = train_test_split(X,y, random_state = 1)\n",
    "\n",
    "# Check your answer\n",
    "step_1.check()"
   ]
  },
  {
   "cell_type": "code",
   "execution_count": 3,
   "id": "2cde1c6b",
   "metadata": {
    "execution": {
     "iopub.execute_input": "2024-09-29T11:53:32.417398Z",
     "iopub.status.busy": "2024-09-29T11:53:32.416927Z",
     "iopub.status.idle": "2024-09-29T11:53:32.421791Z",
     "shell.execute_reply": "2024-09-29T11:53:32.420700Z"
    },
    "papermill": {
     "duration": 0.015612,
     "end_time": "2024-09-29T11:53:32.424354",
     "exception": false,
     "start_time": "2024-09-29T11:53:32.408742",
     "status": "completed"
    },
    "tags": []
   },
   "outputs": [],
   "source": [
    "# The lines below will show you a hint or the solution.\n",
    "# step_1.hint() \n",
    "# step_1.solution()\n"
   ]
  },
  {
   "cell_type": "markdown",
   "id": "6cfe1685",
   "metadata": {
    "papermill": {
     "duration": 0.006163,
     "end_time": "2024-09-29T11:53:32.437057",
     "exception": false,
     "start_time": "2024-09-29T11:53:32.430894",
     "status": "completed"
    },
    "tags": []
   },
   "source": [
    "## Step 2: Specify and Fit the Model\n",
    "\n",
    "Create a `DecisionTreeRegressor` model and fit it to the relevant data.\n",
    "Set `random_state` to 1 again when creating the model."
   ]
  },
  {
   "cell_type": "code",
   "execution_count": 4,
   "id": "679f5744",
   "metadata": {
    "execution": {
     "iopub.execute_input": "2024-09-29T11:53:32.452474Z",
     "iopub.status.busy": "2024-09-29T11:53:32.452022Z",
     "iopub.status.idle": "2024-09-29T11:53:32.482053Z",
     "shell.execute_reply": "2024-09-29T11:53:32.480922Z"
    },
    "papermill": {
     "duration": 0.040343,
     "end_time": "2024-09-29T11:53:32.484418",
     "exception": false,
     "start_time": "2024-09-29T11:53:32.444075",
     "status": "completed"
    },
    "tags": []
   },
   "outputs": [
    {
     "name": "stdout",
     "output_type": "stream",
     "text": [
      "[186500. 184000. 130000.  92000. 164500. 220000. 335000. 144152. 215000.\n",
      " 262000.]\n",
      "[186500. 184000. 130000.  92000. 164500. 220000. 335000. 144152. 215000.\n",
      " 262000.]\n"
     ]
    },
    {
     "data": {
      "application/javascript": [
       "parent.postMessage({\"jupyterEvent\": \"custom.exercise_interaction\", \"data\": {\"outcomeType\": 1, \"valueTowardsCompletion\": 0.25, \"interactionType\": 1, \"questionType\": 2, \"questionId\": \"2_FitModelWithTrain\", \"learnToolsVersion\": \"0.3.4\", \"failureMessage\": \"\", \"exceptionClass\": \"\", \"trace\": \"\"}}, \"*\")"
      ],
      "text/plain": [
       "<IPython.core.display.Javascript object>"
      ]
     },
     "metadata": {},
     "output_type": "display_data"
    },
    {
     "data": {
      "text/markdown": [
       "<span style=\"color:#33cc33\">Correct</span>"
      ],
      "text/plain": [
       "Correct"
      ]
     },
     "metadata": {},
     "output_type": "display_data"
    }
   ],
   "source": [
    "# You imported DecisionTreeRegressor in your last exercise\n",
    "# and that code has been copied to the setup code above. So, no need to\n",
    "# import it again\n",
    "\n",
    "# Specify the model\n",
    "iowa_model = DecisionTreeRegressor(random_state = 1)\n",
    "\n",
    "# Fit iowa_model with the training data.\n",
    "iowa_model.fit(train_X,train_y)\n",
    "\n",
    "# Check your answer\n",
    "step_2.check()"
   ]
  },
  {
   "cell_type": "code",
   "execution_count": 5,
   "id": "9ffc5270",
   "metadata": {
    "execution": {
     "iopub.execute_input": "2024-09-29T11:53:32.500575Z",
     "iopub.status.busy": "2024-09-29T11:53:32.500140Z",
     "iopub.status.idle": "2024-09-29T11:53:32.505031Z",
     "shell.execute_reply": "2024-09-29T11:53:32.503729Z"
    },
    "papermill": {
     "duration": 0.015942,
     "end_time": "2024-09-29T11:53:32.507612",
     "exception": false,
     "start_time": "2024-09-29T11:53:32.491670",
     "status": "completed"
    },
    "tags": []
   },
   "outputs": [],
   "source": [
    "# step_2.hint()\n",
    "# step_2.solution()"
   ]
  },
  {
   "cell_type": "markdown",
   "id": "0dbb286c",
   "metadata": {
    "papermill": {
     "duration": 0.006758,
     "end_time": "2024-09-29T11:53:32.522345",
     "exception": false,
     "start_time": "2024-09-29T11:53:32.515587",
     "status": "completed"
    },
    "tags": []
   },
   "source": [
    "## Step 3: Make Predictions with Validation data\n"
   ]
  },
  {
   "cell_type": "code",
   "execution_count": 6,
   "id": "760a1f02",
   "metadata": {
    "execution": {
     "iopub.execute_input": "2024-09-29T11:53:32.538113Z",
     "iopub.status.busy": "2024-09-29T11:53:32.537385Z",
     "iopub.status.idle": "2024-09-29T11:53:32.550053Z",
     "shell.execute_reply": "2024-09-29T11:53:32.548912Z"
    },
    "papermill": {
     "duration": 0.023309,
     "end_time": "2024-09-29T11:53:32.552475",
     "exception": false,
     "start_time": "2024-09-29T11:53:32.529166",
     "status": "completed"
    },
    "tags": []
   },
   "outputs": [
    {
     "data": {
      "application/javascript": [
       "parent.postMessage({\"jupyterEvent\": \"custom.exercise_interaction\", \"data\": {\"outcomeType\": 1, \"valueTowardsCompletion\": 0.25, \"interactionType\": 1, \"questionType\": 2, \"questionId\": \"3_ValPreds\", \"learnToolsVersion\": \"0.3.4\", \"failureMessage\": \"\", \"exceptionClass\": \"\", \"trace\": \"\"}}, \"*\")"
      ],
      "text/plain": [
       "<IPython.core.display.Javascript object>"
      ]
     },
     "metadata": {},
     "output_type": "display_data"
    },
    {
     "data": {
      "text/markdown": [
       "<span style=\"color:#33cc33\">Correct</span>"
      ],
      "text/plain": [
       "Correct"
      ]
     },
     "metadata": {},
     "output_type": "display_data"
    }
   ],
   "source": [
    "# Predict with all validation observations\n",
    "val_predictions = iowa_model.predict(val_X)\n",
    "\n",
    "# Check your answer\n",
    "step_3.check()"
   ]
  },
  {
   "cell_type": "code",
   "execution_count": 7,
   "id": "646af184",
   "metadata": {
    "execution": {
     "iopub.execute_input": "2024-09-29T11:53:32.569135Z",
     "iopub.status.busy": "2024-09-29T11:53:32.568227Z",
     "iopub.status.idle": "2024-09-29T11:53:32.573127Z",
     "shell.execute_reply": "2024-09-29T11:53:32.572009Z"
    },
    "papermill": {
     "duration": 0.016209,
     "end_time": "2024-09-29T11:53:32.575885",
     "exception": false,
     "start_time": "2024-09-29T11:53:32.559676",
     "status": "completed"
    },
    "tags": []
   },
   "outputs": [],
   "source": [
    "# step_3.hint()\n",
    "# step_3.solution()"
   ]
  },
  {
   "cell_type": "markdown",
   "id": "4a701325",
   "metadata": {
    "papermill": {
     "duration": 0.007135,
     "end_time": "2024-09-29T11:53:32.590663",
     "exception": false,
     "start_time": "2024-09-29T11:53:32.583528",
     "status": "completed"
    },
    "tags": []
   },
   "source": [
    "Inspect your predictions and actual values from validation data."
   ]
  },
  {
   "cell_type": "code",
   "execution_count": 8,
   "id": "aab00fec",
   "metadata": {
    "execution": {
     "iopub.execute_input": "2024-09-29T11:53:32.607669Z",
     "iopub.status.busy": "2024-09-29T11:53:32.607198Z",
     "iopub.status.idle": "2024-09-29T11:53:32.614404Z",
     "shell.execute_reply": "2024-09-29T11:53:32.613295Z"
    },
    "papermill": {
     "duration": 0.019596,
     "end_time": "2024-09-29T11:53:32.617829",
     "exception": false,
     "start_time": "2024-09-29T11:53:32.598233",
     "status": "completed"
    },
    "tags": []
   },
   "outputs": [
    {
     "name": "stdout",
     "output_type": "stream",
     "text": [
      "[186500. 184000. 130000.  92000. 164500.]\n",
      "258     231500\n",
      "267     179500\n",
      "288     122000\n",
      "649      84500\n",
      "1233    142000\n",
      "Name: SalePrice, dtype: int64\n"
     ]
    }
   ],
   "source": [
    "# print the top few validation predictions\n",
    "print(val_predictions[:5])\n",
    "# print the top few actual prices from validation data\n",
    "print(val_y[:5])"
   ]
  },
  {
   "cell_type": "markdown",
   "id": "e31f5076",
   "metadata": {
    "papermill": {
     "duration": 0.007085,
     "end_time": "2024-09-29T11:53:32.632465",
     "exception": false,
     "start_time": "2024-09-29T11:53:32.625380",
     "status": "completed"
    },
    "tags": []
   },
   "source": [
    "What do you notice that is different from what you saw with in-sample predictions (which are printed after the top code cell in this page).\n",
    "\n",
    "Do you remember why validation predictions differ from in-sample (or training) predictions? This is an important idea from the last lesson.\n",
    "\n",
    "## Step 4: Calculate the Mean Absolute Error in Validation Data\n"
   ]
  },
  {
   "cell_type": "code",
   "execution_count": 9,
   "id": "a1c88295",
   "metadata": {
    "execution": {
     "iopub.execute_input": "2024-09-29T11:53:32.649468Z",
     "iopub.status.busy": "2024-09-29T11:53:32.648529Z",
     "iopub.status.idle": "2024-09-29T11:53:32.660377Z",
     "shell.execute_reply": "2024-09-29T11:53:32.659218Z"
    },
    "papermill": {
     "duration": 0.023542,
     "end_time": "2024-09-29T11:53:32.663289",
     "exception": false,
     "start_time": "2024-09-29T11:53:32.639747",
     "status": "completed"
    },
    "tags": []
   },
   "outputs": [
    {
     "name": "stdout",
     "output_type": "stream",
     "text": [
      "29652.931506849316\n"
     ]
    },
    {
     "data": {
      "application/javascript": [
       "parent.postMessage({\"jupyterEvent\": \"custom.exercise_interaction\", \"data\": {\"outcomeType\": 1, \"valueTowardsCompletion\": 0.25, \"interactionType\": 1, \"questionType\": 1, \"questionId\": \"4_MAE\", \"learnToolsVersion\": \"0.3.4\", \"failureMessage\": \"\", \"exceptionClass\": \"\", \"trace\": \"\"}}, \"*\")"
      ],
      "text/plain": [
       "<IPython.core.display.Javascript object>"
      ]
     },
     "metadata": {},
     "output_type": "display_data"
    },
    {
     "data": {
      "text/markdown": [
       "<span style=\"color:#33cc33\">Correct</span>"
      ],
      "text/plain": [
       "Correct"
      ]
     },
     "metadata": {},
     "output_type": "display_data"
    }
   ],
   "source": [
    "from sklearn.metrics import mean_absolute_error\n",
    "val_mae = mean_absolute_error(val_y,val_predictions)\n",
    "\n",
    "# uncomment following line to see the validation_mae\n",
    "print(val_mae)\n",
    "\n",
    "# Check your answer\n",
    "step_4.check()"
   ]
  },
  {
   "cell_type": "code",
   "execution_count": 10,
   "id": "4f0ea34e",
   "metadata": {
    "execution": {
     "iopub.execute_input": "2024-09-29T11:53:32.681453Z",
     "iopub.status.busy": "2024-09-29T11:53:32.680992Z",
     "iopub.status.idle": "2024-09-29T11:53:32.686063Z",
     "shell.execute_reply": "2024-09-29T11:53:32.685017Z"
    },
    "papermill": {
     "duration": 0.016931,
     "end_time": "2024-09-29T11:53:32.688449",
     "exception": false,
     "start_time": "2024-09-29T11:53:32.671518",
     "status": "completed"
    },
    "tags": []
   },
   "outputs": [],
   "source": [
    "# step_4.hint()\n",
    "# step_4.solution()"
   ]
  },
  {
   "cell_type": "markdown",
   "id": "e3106326",
   "metadata": {
    "papermill": {
     "duration": 0.00775,
     "end_time": "2024-09-29T11:53:32.704311",
     "exception": false,
     "start_time": "2024-09-29T11:53:32.696561",
     "status": "completed"
    },
    "tags": []
   },
   "source": [
    "Is that MAE good?  There isn't a general rule for what values are good that applies across applications. But you'll see how to use (and improve) this number in the next step.\n",
    "\n",
    "# Keep Going\n",
    "\n",
    "You are ready for **[Underfitting and Overfitting](https://www.kaggle.com/dansbecker/underfitting-and-overfitting).**\n"
   ]
  },
  {
   "cell_type": "markdown",
   "id": "f8b214be",
   "metadata": {
    "papermill": {
     "duration": 0.007685,
     "end_time": "2024-09-29T11:53:32.720176",
     "exception": false,
     "start_time": "2024-09-29T11:53:32.712491",
     "status": "completed"
    },
    "tags": []
   },
   "source": [
    "---\n",
    "\n",
    "\n",
    "\n",
    "\n",
    "*Have questions or comments? Visit the [course discussion forum](https://www.kaggle.com/learn/intro-to-machine-learning/discussion) to chat with other learners.*"
   ]
  }
 ],
 "metadata": {
  "kaggle": {
   "accelerator": "none",
   "dataSources": [
    {
     "databundleVersionId": 111096,
     "sourceId": 10211,
     "sourceType": "competition"
    },
    {
     "datasetId": 11167,
     "sourceId": 15520,
     "sourceType": "datasetVersion"
    },
    {
     "datasetId": 2709,
     "sourceId": 38454,
     "sourceType": "datasetVersion"
    }
   ],
   "isGpuEnabled": false,
   "isInternetEnabled": false,
   "language": "python",
   "sourceType": "notebook"
  },
  "kernelspec": {
   "display_name": "Python 3",
   "language": "python",
   "name": "python3"
  },
  "language_info": {
   "codemirror_mode": {
    "name": "ipython",
    "version": 3
   },
   "file_extension": ".py",
   "mimetype": "text/x-python",
   "name": "python",
   "nbconvert_exporter": "python",
   "pygments_lexer": "ipython3",
   "version": "3.10.14"
  },
  "papermill": {
   "default_parameters": {},
   "duration": 6.622074,
   "end_time": "2024-09-29T11:53:33.350051",
   "environment_variables": {},
   "exception": null,
   "input_path": "__notebook__.ipynb",
   "output_path": "__notebook__.ipynb",
   "parameters": {},
   "start_time": "2024-09-29T11:53:26.727977",
   "version": "2.6.0"
  }
 },
 "nbformat": 4,
 "nbformat_minor": 5
}
